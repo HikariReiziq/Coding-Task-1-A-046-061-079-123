{
 "cells": [
  {
   "cell_type": "code",
   "execution_count": 1,
   "id": "519efc77-c89a-4a34-90a0-52825d9cdcd1",
   "metadata": {},
   "outputs": [
    {
     "name": "stdout",
     "output_type": "stream",
     "text": [
      "Hello world\n"
     ]
    }
   ],
   "source": [
    "print(\"Hello world\")"
   ]
  },
  {
   "cell_type": "code",
   "execution_count": 1,
   "id": "112e51c9-de3f-425e-ada9-a52e29b00145",
   "metadata": {},
   "outputs": [
    {
     "name": "stdout",
     "output_type": "stream",
     "text": [
      "mantap\n"
     ]
    }
   ],
   "source": [
    "print(\"mantap\")"
   ]
  },
  {
   "cell_type": "markdown",
   "id": "1b761f06-8aa1-43b4-860f-bb37ad00e56d",
   "metadata": {},
   "source": [
    "#First Notebook\n"
   ]
  },
  {
   "cell_type": "markdown",
   "id": "3067607f-3e25-47e1-ac3d-40fd2ed4bb8a",
   "metadata": {},
   "source": []
  }
 ],
 "metadata": {
  "kernelspec": {
   "display_name": "Python 3 (ipykernel)",
   "language": "python",
   "name": "python3"
  },
  "language_info": {
   "codemirror_mode": {
    "name": "ipython",
    "version": 3
   },
   "file_extension": ".py",
   "mimetype": "text/x-python",
   "name": "python",
   "nbconvert_exporter": "python",
   "pygments_lexer": "ipython3",
   "version": "3.12.4"
  }
 },
 "nbformat": 4,
 "nbformat_minor": 5
}
